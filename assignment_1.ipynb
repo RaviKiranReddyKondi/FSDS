{
 "cells": [
  {
   "cell_type": "code",
   "execution_count": 1,
   "id": "39d0905a",
   "metadata": {},
   "outputs": [
    {
     "data": {
      "text/plain": [
       "\"1. In the below elements which of them are values or an expression? eg:- values can be integer or string and expressions will be mathematical operators.\\n* \\n'hello'\\n-87.8\\n- \\n/ \\n+\\t\\n6 \\n\""
      ]
     },
     "execution_count": 1,
     "metadata": {},
     "output_type": "execute_result"
    }
   ],
   "source": [
    "'''1. In the below elements which of them are values or an expression? eg:- values can be integer or string and expressions will be mathematical operators.\n",
    "* \n",
    "'hello'\n",
    "-87.8\n",
    "- \n",
    "/ \n",
    "+\t\n",
    "6 \n",
    "'''\n",
    "###ans:\"hello\", -87.8, 6 are values and -,/,+ are the arthmetic operators used in expression"
   ]
  },
  {
   "cell_type": "code",
   "execution_count": 6,
   "id": "cf2895f1",
   "metadata": {},
   "outputs": [
    {
     "data": {
      "text/plain": [
       "'2. What is the difference between string and variable?\\n#ans: string is a character variable and it is in between \"\" or\\'\\'. but variable were we store a value it may be integer, float or strings'"
      ]
     },
     "execution_count": 6,
     "metadata": {},
     "output_type": "execute_result"
    }
   ],
   "source": [
    "\"\"\"2. What is the difference between string and variable?\n",
    "#ans: string is a character variable and it is in between \"\" or''. but variable were we store a value it may be integer, float or strings\"\"\""
   ]
  },
  {
   "cell_type": "code",
   "execution_count": 7,
   "id": "6de3dfbb",
   "metadata": {},
   "outputs": [
    {
     "data": {
      "text/plain": [
       "'3. Describe three different data types\\nans: Lists[], tuples(), sets, dictonaries{}'"
      ]
     },
     "execution_count": 7,
     "metadata": {},
     "output_type": "execute_result"
    }
   ],
   "source": [
    "'''3. Describe three different data types\n",
    "ans: Lists[], tuples(), sets, dictonaries{}'''"
   ]
  },
  {
   "cell_type": "code",
   "execution_count": 8,
   "id": "6fbd6b20",
   "metadata": {},
   "outputs": [
    {
     "data": {
      "text/plain": [
       "'4. What is an expression made up of? What do all expressions do?\\nans: expression is made up of operators where used for a particular statement example a=2+3*5/3'"
      ]
     },
     "execution_count": 8,
     "metadata": {},
     "output_type": "execute_result"
    }
   ],
   "source": [
    "\"\"\"4. What is an expression made up of? What do all expressions do?\n",
    "ans: expression is made up of operators where used for a particular statement example a=2+3*5/3\"\"\""
   ]
  },
  {
   "cell_type": "code",
   "execution_count": 9,
   "id": "9eaef0e7",
   "metadata": {},
   "outputs": [
    {
     "data": {
      "text/plain": [
       "'5. This assignment statements, like spam = 10. What is the difference between an expression and a statement?\\nans: statement may contain different expression. expression is a mixture of operators and operands'"
      ]
     },
     "execution_count": 9,
     "metadata": {},
     "output_type": "execute_result"
    }
   ],
   "source": [
    "\"\"\"5. This assignment statements, like spam = 10. What is the difference between an expression and a statement?\n",
    "ans: statement may contain different expression. expression is a mixture of operators and operands\"\"\""
   ]
  },
  {
   "cell_type": "code",
   "execution_count": 10,
   "id": "17904bb7",
   "metadata": {},
   "outputs": [
    {
     "data": {
      "text/plain": [
       "23"
      ]
     },
     "execution_count": 10,
     "metadata": {},
     "output_type": "execute_result"
    }
   ],
   "source": [
    "\"\"\"6. After running the following code, what does the variable bacon contain?\"\"\"\n",
    "bacon = 22\n",
    "bacon + 1\n",
    "#23"
   ]
  },
  {
   "cell_type": "code",
   "execution_count": 12,
   "id": "880d938f",
   "metadata": {},
   "outputs": [
    {
     "data": {
      "text/plain": [
       "'spamspamspam'"
      ]
     },
     "execution_count": 12,
     "metadata": {},
     "output_type": "execute_result"
    }
   ],
   "source": [
    "'''7. What should the values of the following two terms be?'''\n",
    "'spam' + 'spamspam'\n",
    "'spam' * 3\n",
    "#addition of two strings and SEcond one is string is multipled by 3 so its repeat thrice"
   ]
  },
  {
   "cell_type": "code",
   "execution_count": 13,
   "id": "f72f0724",
   "metadata": {},
   "outputs": [
    {
     "data": {
      "text/plain": [
       "'8. Why is eggs a valid variable name while 100 is invalid?'"
      ]
     },
     "execution_count": 13,
     "metadata": {},
     "output_type": "execute_result"
    }
   ],
   "source": [
    "\"\"\"8. Why is eggs a valid variable name while 100 is invalid?\"\"\"\n",
    "#egg is valid variable because it does not start with any number and no special symbols and does not have name of keyword"
   ]
  },
  {
   "cell_type": "code",
   "execution_count": 15,
   "id": "10127a3c",
   "metadata": {},
   "outputs": [
    {
     "data": {
      "text/plain": [
       "'9. What three functions can be used to get the integer, floating-point number, or string version of a value?'"
      ]
     },
     "execution_count": 15,
     "metadata": {},
     "output_type": "execute_result"
    }
   ],
   "source": [
    "\"\"\"9. What three functions can be used to get the integer, floating-point number, or string version of a value?\"\"\"\n",
    "#ans: int(), float(), str()"
   ]
  },
  {
   "cell_type": "code",
   "execution_count": 18,
   "id": "a0ade774",
   "metadata": {},
   "outputs": [
    {
     "data": {
      "text/plain": [
       "'10. Why does this expression cause an error? How can you fix it?'"
      ]
     },
     "execution_count": 18,
     "metadata": {},
     "output_type": "execute_result"
    }
   ],
   "source": [
    "\"\"\"10. Why does this expression cause an error? How can you fix it?\"\"\"\n",
    "#ans: 'I have eaten ' + \"99\" + ' burritos.'"
   ]
  },
  {
   "cell_type": "code",
   "execution_count": null,
   "id": "cd96b1c4",
   "metadata": {},
   "outputs": [],
   "source": []
  }
 ],
 "metadata": {
  "kernelspec": {
   "display_name": "Python 3 (ipykernel)",
   "language": "python",
   "name": "python3"
  },
  "language_info": {
   "codemirror_mode": {
    "name": "ipython",
    "version": 3
   },
   "file_extension": ".py",
   "mimetype": "text/x-python",
   "name": "python",
   "nbconvert_exporter": "python",
   "pygments_lexer": "ipython3",
   "version": "3.9.7"
  }
 },
 "nbformat": 4,
 "nbformat_minor": 5
}
