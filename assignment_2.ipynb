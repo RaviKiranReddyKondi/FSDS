{
 "cells": [
  {
   "cell_type": "code",
   "execution_count": null,
   "id": "a79b6e65",
   "metadata": {},
   "outputs": [],
   "source": [
    "#1.What are the two values of the Boolean data type? How do you write them?\n",
    "#ans:True and False"
   ]
  },
  {
   "cell_type": "code",
   "execution_count": null,
   "id": "d9943662",
   "metadata": {},
   "outputs": [],
   "source": [
    "#2. What are the three different types of Boolean operators?\n",
    "#ans: And, or , not "
   ]
  },
  {
   "cell_type": "code",
   "execution_count": null,
   "id": "6f6a7fa7",
   "metadata": {},
   "outputs": [],
   "source": [
    "#3. Make a list of each Boolean operator's truth tables (i.e. every possible combination of Boolean values for the operator and what it evaluate ).\n",
    "# True and True= True\n",
    "#True and False= False\n",
    "# True or False=True\n",
    "# False or True= True\n",
    "#not false= True\n",
    "#not True= False"
   ]
  },
  {
   "cell_type": "code",
   "execution_count": 5,
   "id": "e2c8d861",
   "metadata": {},
   "outputs": [],
   "source": [
    "# 4. What are the values of the following expressions?\n",
    "#ans: false (5 > 4) and (3 == 5)\n",
    "#ans: false not (5 > 4)\n",
    "#ans: True (5 > 4) or (3 == 5)\n",
    "#ans: False not ((5 > 4) or (3 == 5))\n",
    "#ans: False (True and True) and (True == False)\n",
    "#ans: True (not False) or (not True)\n"
   ]
  },
  {
   "cell_type": "code",
   "execution_count": null,
   "id": "0af5e825",
   "metadata": {},
   "outputs": [],
   "source": [
    "#5. What are the six comparison operators?\n",
    "#ans: ==,!=,>,>=,<,<=\n"
   ]
  },
  {
   "cell_type": "code",
   "execution_count": null,
   "id": "315a4545",
   "metadata": {},
   "outputs": [],
   "source": [
    "#6. How do you tell the difference between the equal to and assignment operators?Describe a condition and when you would use one.\n",
    "#ans: = this is assignment operators and == this is equal to operator"
   ]
  },
  {
   "cell_type": "code",
   "execution_count": 9,
   "id": "e9cec0a3",
   "metadata": {},
   "outputs": [
    {
     "data": {
      "text/plain": [
       "\"3rd blockelse:\\nprint('ham')\\nprint('spam')\\nprint('spam')\""
      ]
     },
     "execution_count": 9,
     "metadata": {},
     "output_type": "execute_result"
    }
   ],
   "source": [
    "#7. Identify the three blocks in this code:\n",
    "spam = 0\n",
    "'''1st block if spam == 10:\n",
    "print('eggs')'''\n",
    "'''2nd block if spam > 5:\n",
    "print('bacon')'''\n",
    "'''3rd blockelse:\n",
    "print('ham')\n",
    "print('spam')\n",
    "print('spam')'''\n"
   ]
  },
  {
   "cell_type": "code",
   "execution_count": 13,
   "id": "a7394a88",
   "metadata": {},
   "outputs": [
    {
     "name": "stdout",
     "output_type": "stream",
     "text": [
      "enter any number:5\n",
      "Greetings!\n"
     ]
    }
   ],
   "source": [
    "#8. Write code that prints Hello if 1 is stored in spam, prints Howdy if 2 is stored in spam, and prints Greetings! if anything else is stored in spam.\n",
    "spam=int(input('enter any number:'))\n",
    "if spam==1:\n",
    "    print(\"Hello\")\n",
    "elif spam==2:\n",
    "    print(\"Howdy\")\n",
    "else:\n",
    "    print(\"Greetings!\")\n"
   ]
  },
  {
   "cell_type": "code",
   "execution_count": null,
   "id": "1c82619f",
   "metadata": {},
   "outputs": [],
   "source": [
    "#9.If your programme is stuck in an endless loop, what keys you’ll press?\n",
    "#ans: Ctrl-C\n"
   ]
  },
  {
   "cell_type": "code",
   "execution_count": null,
   "id": "3509c20c",
   "metadata": {},
   "outputs": [],
   "source": [
    "#10. How can you tell the difference between break and continue?\n",
    "# break will move exceution outside just after the loop, but continue will take to starting of loop"
   ]
  },
  {
   "cell_type": "code",
   "execution_count": null,
   "id": "710068f9",
   "metadata": {},
   "outputs": [],
   "source": [
    "#11. In a for loop, what is the difference between range(10), range(0, 10), and range(0, 10, 1)?\n",
    "#range(10) prints from 0 t0 9\n",
    "#range(0,10) in this we are saying to start the range from 0\n",
    "#range(o,10,1) in this we are saying the step size for range"
   ]
  },
  {
   "cell_type": "code",
   "execution_count": 8,
   "id": "f43540af",
   "metadata": {},
   "outputs": [
    {
     "name": "stdout",
     "output_type": "stream",
     "text": [
      "1\n",
      "2\n",
      "3\n",
      "4\n",
      "5\n",
      "6\n",
      "7\n",
      "8\n",
      "9\n",
      "10\n"
     ]
    }
   ],
   "source": [
    "#12. Write a short program that prints the numbers 1 to 10 using a for loop. Then write an equivalent program that prints the numbers 1 to 10 using a while loop.\n",
    "a=range(1,11)\n",
    "for i in a:\n",
    "    print(i)\n",
    "    "
   ]
  },
  {
   "cell_type": "code",
   "execution_count": 25,
   "id": "7302f169",
   "metadata": {},
   "outputs": [
    {
     "name": "stdout",
     "output_type": "stream",
     "text": [
      "1\n",
      "2\n",
      "3\n",
      "4\n",
      "5\n",
      "6\n",
      "7\n",
      "8\n",
      "9\n",
      "10\n"
     ]
    }
   ],
   "source": [
    "a=1\n",
    "while a<=10:\n",
    "    print(a)\n",
    "    a=a+1\n"
   ]
  },
  {
   "cell_type": "code",
   "execution_count": null,
   "id": "f76b5c69",
   "metadata": {},
   "outputs": [],
   "source": [
    "#13. If you had a function named bacon() inside a module named spam, how would you call it after importing spam?\n",
    "#ans: spam.bacon()\n"
   ]
  },
  {
   "cell_type": "code",
   "execution_count": null,
   "id": "fa28330f",
   "metadata": {},
   "outputs": [],
   "source": []
  }
 ],
 "metadata": {
  "kernelspec": {
   "display_name": "Python 3 (ipykernel)",
   "language": "python",
   "name": "python3"
  },
  "language_info": {
   "codemirror_mode": {
    "name": "ipython",
    "version": 3
   },
   "file_extension": ".py",
   "mimetype": "text/x-python",
   "name": "python",
   "nbconvert_exporter": "python",
   "pygments_lexer": "ipython3",
   "version": "3.9.7"
  }
 },
 "nbformat": 4,
 "nbformat_minor": 5
}
